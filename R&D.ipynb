{
 "cells": [
  {
   "cell_type": "code",
   "execution_count": 57,
   "metadata": {},
   "outputs": [
    {
     "data": {
      "text/html": [
       "<button onclick=\"$('.input, .prompt, .output_stderr, .output_error').toggle();\">Toggle Code</button>"
      ],
      "text/plain": [
       "<IPython.core.display.HTML object>"
      ]
     },
     "metadata": {},
     "output_type": "display_data"
    }
   ],
   "source": [
    "%%HTML\n",
    "<button onclick=\"$('.input, .prompt, .output_stderr, .output_error').toggle();\">Toggle Code</button>"
   ]
  },
  {
   "cell_type": "code",
   "execution_count": 1,
   "metadata": {},
   "outputs": [],
   "source": [
    "import pandas as pd\n",
    "mypath=r\"C:\\Users\\hunzh\\Desktop\\RD\""
   ]
  },
  {
   "cell_type": "code",
   "execution_count": 2,
   "metadata": {},
   "outputs": [],
   "source": [
    "ree=pd.read_excel(mypath+r\"\\rd.xlsx\",0,index_col='code')# 费用化的研发支出 \n",
    "rec=pd.read_excel(mypath+r\"\\rd.xlsx\",1,index_col='code')# 资本化研发支出\n",
    "re=pd.read_excel(mypath+r\"\\rd.xlsx\",2,index_col='code')# 总研发支出\n",
    "#price=pd.read_excel(mypath+r\"\\price.xlsx\",0,index_col='code') # 股票价格序列\n",
    "market=pd.read_excel(mypath+r\"\\marketcap.xlsx\",0,index_col='code')  #总市值\n",
    "#读取资本化和市值"
   ]
  },
  {
   "cell_type": "markdown",
   "metadata": {},
   "source": [
    "##   计算需要的表格"
   ]
  },
  {
   "cell_type": "code",
   "execution_count": 3,
   "metadata": {},
   "outputs": [],
   "source": [
    "\n",
    "sale=pd.read_excel(mypath+r\"\\sale.xlsx\",0,index_col='code') #销售收入\n",
    "profit=pd.read_excel(mypath+r\"\\profit.xlsx\",0,index_col='code') #净利润\n",
    "cash=pd.read_excel(mypath+r\"\\cash.xlsx\",0,index_col='code') #现金流入\n",
    "equity=pd.read_excel(mypath+r\"\\equity.xlsx\",0,index_col='code') #所有者权益\n",
    "bonus=pd.read_excel(mypath+r\"\\bonus.xlsx\",0,index_col='code') #现金红利"
   ]
  },
  {
   "cell_type": "code",
   "execution_count": 4,
   "metadata": {},
   "outputs": [
    {
     "data": {
      "text/html": [
       "<div>\n",
       "<style scoped>\n",
       "    .dataframe tbody tr th:only-of-type {\n",
       "        vertical-align: middle;\n",
       "    }\n",
       "\n",
       "    .dataframe tbody tr th {\n",
       "        vertical-align: top;\n",
       "    }\n",
       "\n",
       "    .dataframe thead th {\n",
       "        text-align: right;\n",
       "    }\n",
       "</style>\n",
       "<table border=\"1\" class=\"dataframe\">\n",
       "  <thead>\n",
       "    <tr style=\"text-align: right;\">\n",
       "      <th></th>\n",
       "      <th>sale</th>\n",
       "      <th>profit</th>\n",
       "      <th>bonus</th>\n",
       "      <th>equity</th>\n",
       "    </tr>\n",
       "  </thead>\n",
       "  <tbody>\n",
       "    <tr>\n",
       "      <th>2013</th>\n",
       "      <td>0.0175353</td>\n",
       "      <td>0.390239</td>\n",
       "      <td>1.3034</td>\n",
       "      <td>0.0342424</td>\n",
       "    </tr>\n",
       "    <tr>\n",
       "      <th>2014</th>\n",
       "      <td>0.0191176</td>\n",
       "      <td>0.370282</td>\n",
       "      <td>1.28146</td>\n",
       "      <td>0.0325664</td>\n",
       "    </tr>\n",
       "    <tr>\n",
       "      <th>2015</th>\n",
       "      <td>0.0206007</td>\n",
       "      <td>0.439709</td>\n",
       "      <td>1.26664</td>\n",
       "      <td>0.0307568</td>\n",
       "    </tr>\n",
       "    <tr>\n",
       "      <th>2016</th>\n",
       "      <td>0.0217257</td>\n",
       "      <td>0.407509</td>\n",
       "      <td>1.05463</td>\n",
       "      <td>0.030331</td>\n",
       "    </tr>\n",
       "    <tr>\n",
       "      <th>2017</th>\n",
       "      <td>0.0220084</td>\n",
       "      <td>0.364111</td>\n",
       "      <td>1.83642</td>\n",
       "      <td>0.0318167</td>\n",
       "    </tr>\n",
       "  </tbody>\n",
       "</table>\n",
       "</div>"
      ],
      "text/plain": [
       "           sale    profit    bonus     equity\n",
       "2013  0.0175353  0.390239   1.3034  0.0342424\n",
       "2014  0.0191176  0.370282  1.28146  0.0325664\n",
       "2015  0.0206007  0.439709  1.26664  0.0307568\n",
       "2016  0.0217257  0.407509  1.05463   0.030331\n",
       "2017  0.0220084  0.364111  1.83642  0.0318167"
      ]
     },
     "execution_count": 4,
     "metadata": {},
     "output_type": "execute_result"
    }
   ],
   "source": [
    "df=pd.DataFrame(index=list(range(2013,2018)),columns=['sale','profit','bonus','equity'])\n",
    "for year in range(2013,2018):\n",
    "    re_y=re[year]\n",
    "    re_y.name='RE'\n",
    "\n",
    "    companys=list(re_y.index[re_y.notnull()])  #公布了研发支出的公司列表\n",
    "\n",
    "    def get_sum(xx):\n",
    "        xx_y=xx[year]\n",
    "        return xx_y[xx_y.index.to_series().isin(companys)].sum()\n",
    "    re_s=get_sum(re)  #所有公司RE加总\n",
    "   \n",
    "    for name in ['sale','profit','bonus','equity']:\n",
    "        xx=eval(name)\n",
    "        df.loc[year,name]=re_s/get_sum(xx)\n",
    "df\n",
    "\n"
   ]
  },
  {
   "cell_type": "markdown",
   "metadata": {},
   "source": [
    "R&D占公司各项指标的比例"
   ]
  },
  {
   "cell_type": "code",
   "execution_count": 5,
   "metadata": {},
   "outputs": [
    {
     "data": {
      "text/plain": [
       "2015    0.074127\n",
       "2016    0.072657\n",
       "2017    0.073796\n",
       "dtype: float64"
      ]
     },
     "execution_count": 5,
     "metadata": {},
     "output_type": "execute_result"
    }
   ],
   "source": [
    "total=re.loc[re.notnull().sum(axis=1)==6,:] \n",
    "def fff(x):\n",
    "    rdc1=x[2017]+0.8*x[2016]+0.6*x[2015]\n",
    "    rdc2=x[2016]+0.8*x[2015]+0.6*x[2014]\n",
    "    rdc3=x[2015]+0.8*x[2014]+0.6*x[2013]\n",
    "    l=[rdc1,rdc2,rdc3]\n",
    "    return pd.Series(l,index=[2017,2016,2015])\n",
    "#k=total.apply(lambda x:x[2017]+0.8*x[2016]+0.6*x[2015]+0.4*x[2014]+0.2*x[2013],axis=1) \n",
    "k=total.apply(fff,axis=1) \n",
    "\n",
    "companys=list(total.index) \n",
    "\n",
    "es=equity[[2015,2016,2017]]\n",
    "ess=es[es.index.to_series().isin(companys)]  #所有者权益\n",
    "k.sum()/ess.sum()  #RDC占所有者权益的比例"
   ]
  },
  {
   "cell_type": "markdown",
   "metadata": {},
   "source": [
    "RDC占所有者权益的比例"
   ]
  },
  {
   "cell_type": "markdown",
   "metadata": {},
   "source": [
    "## 进行模拟交易"
   ]
  },
  {
   "cell_type": "code",
   "execution_count": 3,
   "metadata": {},
   "outputs": [],
   "source": [
    "ret=pd.read_excel(mypath+r\"\\rets.xlsx\",0)  #读取收益率序列"
   ]
  },
  {
   "cell_type": "code",
   "execution_count": null,
   "metadata": {},
   "outputs": [],
   "source": []
  },
  {
   "cell_type": "code",
   "execution_count": 4,
   "metadata": {},
   "outputs": [],
   "source": [
    "f=lambda x :format(x,'06.0f')+'.SZ'\n",
    "code=ret.Stkcd.map(f)  #转换股票代码\n",
    "ret.index=code #设为索引\n",
    "def get_f_years(time):\n",
    "    if time.month<=5:\n",
    "        return time.year-2\n",
    "    else:\n",
    "        return time.year-1\n",
    "def get_group_list(f_year,group=0):  #返回需要的股票列表\n",
    "    stock_i=re[f_year].notnull() & market[f_year]!=0  #待选股票\n",
    "    rdp=re[f_year][stock_i]/market[f_year][stock_i]  #计算rd/p\n",
    "    cut=pd.qcut(rdp,10,labels=range(10)).astype(int) \n",
    "    return list( cut.index[cut==group] ) "
   ]
  },
  {
   "cell_type": "code",
   "execution_count": 5,
   "metadata": {},
   "outputs": [],
   "source": [
    "tr=pd.date_range('2014-06-01','2018-06-01',freq='M').map(lambda t:pd.Timestamp(year=t.year, month=t.month, day=1))\n",
    "df=pd.DataFrame(index=tr,columns=['ret0','ret9'])\n",
    "for t in tr:  #遍历每一个月\n",
    "    retm=ret.loc[(ret.Trdmnt==t),:]  #当月的收益率\n",
    "    if t.month==6:#在每年6月\n",
    "        \n",
    "        f_year=get_f_years(t)  #对应财报年份\n",
    "        g0=get_group_list(f_year,0)  #最低组\n",
    "        g0=list(  retm.index[(retm.index.to_series().isin(g0) & (retm.Mnshrtrd!=0))] )\n",
    "        \n",
    "        g9=get_group_list(f_year,9)  #最高组\n",
    "        g9=list(  retm.index[(retm.index.to_series().isin(g9) & (retm.Mnshrtrd!=0))] )\n",
    "        #print('change',len(g0),len(g9))\n",
    "    else:\n",
    "        pass #就沿用上一个循环的g0&g9\n",
    "    ret0=retm.Mretwd[retm.index.to_series().isin(g0)].mean()\n",
    "    ret9=retm.Mretwd[retm.index.to_series().isin(g9)].mean()\n",
    "    ret_por=(ret9-ret0) #套利组合收益率\n",
    "    if t.month==6:\n",
    "        rett_por=ret_por-0.003 #手续费\n",
    "    df.loc[t,'ret0']=ret0\n",
    "    df.loc[t,'ret9']=ret9\n",
    "    df.loc[t,'retp']=ret_por\n",
    "df1=df\n",
    "#df  #得到收益率曲线       "
   ]
  },
  {
   "cell_type": "code",
   "execution_count": 7,
   "metadata": {},
   "outputs": [
    {
     "data": {
      "text/plain": [
       "<matplotlib.axes._subplots.AxesSubplot at 0x1c7ac9c7c18>"
      ]
     },
     "execution_count": 7,
     "metadata": {},
     "output_type": "execute_result"
    },
    {
     "data": {
      "image/png": "[encoded data removed]",
      "text/plain": [
       "<Figure size 432x288 with 1 Axes>"
      ]
     },
     "metadata": {},
     "output_type": "display_data"
    }
   ],
   "source": [
    "def cal_p(ret,name):\n",
    "    ps=pd.Series(index=ret.index)\n",
    "    ps.name=name\n",
    "    p=1\n",
    "    for t in ret.index:\n",
    "        rett=ret[t]\n",
    "        p=p*(1+rett)\n",
    "        ps[t]=p\n",
    "    return ps\n",
    "cal_p(df.retp,'pp').plot()\n"
   ]
  },
  {
   "cell_type": "markdown",
   "metadata": {},
   "source": [
    "上图为套利组合的价格走势图（最高组合减去最低组合）（已经考虑了手续费）"
   ]
  },
  {
   "cell_type": "code",
   "execution_count": 8,
   "metadata": {},
   "outputs": [
    {
     "data": {
      "text/plain": [
       "<matplotlib.axes._subplots.AxesSubplot at 0x1c7ac9a8b00>"
      ]
     },
     "execution_count": 8,
     "metadata": {},
     "output_type": "execute_result"
    },
    {
     "data": {
      "image/png": "[encoded data removed]",
      "text/plain": [
       "<Figure size 432x288 with 1 Axes>"
      ]
     },
     "metadata": {},
     "output_type": "display_data"
    }
   ],
   "source": [
    "cal_p(df.ret0,'p0').to_frame().join(cal_p(df.ret9,'p9')).plot()"
   ]
  },
  {
   "cell_type": "markdown",
   "metadata": {},
   "source": [
    "上图为最高组合与最低组合的对比，p0是R&D/p最低的组合，p9与之相反"
   ]
  },
  {
   "cell_type": "code",
   "execution_count": 18,
   "metadata": {},
   "outputs": [],
   "source": [
    "# tr=pd.date_range('2016-06-01','2018-06-01',freq='M').map(lambda t:pd.Timestamp(year=t.year, month=t.month, day=1))\n",
    "# df=pd.DataFrame(index=tr,columns=['ret0','ret9'])\n",
    "# for t in tr:  #遍历每一个月\n",
    "#     retm=ret.loc[(ret.Trdmnt==t),:]  #当月的收益率\n",
    "#     if t.month==6:#在每年6月\n",
    "#         f_year=get_f_years(t)  #对应财报年份\n",
    "#         g0=get_group_list(f_year-2,0)  #最低组\n",
    "#         g0=list(  retm.index[(retm.index.to_series().isin(g0) & (retm.Mnshrtrd!=0))] )\n",
    "        \n",
    "#         g9=get_group_list(f_year-2,9)  #最高组\n",
    "#         g9=list(  retm.index[(retm.index.to_series().isin(g9) & (retm.Mnshrtrd!=0))] )\n",
    "#         #print('change',len(g0),len(g9))\n",
    "#     else:\n",
    "#         pass #就沿用上一个循环的g0&g9\n",
    "#     ret0=retm.Mretwd[retm.index.to_series().isin(g0)].mean()\n",
    "#     ret9=retm.Mretwd[retm.index.to_series().isin(g9)].mean()\n",
    "#     ret_por=(ret0-ret9) #套利组合收益率\n",
    "#     if t.month==6:\n",
    "#         ret_por=ret_por-0.003  #千分之三的手续费\n",
    "#     df.loc[t,'ret0']=ret0\n",
    "#     df.loc[t,'ret9']=ret9\n",
    "#     df.loc[t,'retp']=ret_por\n",
    "# cal_p(df.retp,'pp').plot()   上图为滞后两年"
   ]
  },
  {
   "cell_type": "code",
   "execution_count": 30,
   "metadata": {},
   "outputs": [],
   "source": [
    "ff3=pd.read_csv(mypath+r\"\\ff3.csv\")"
   ]
  },
  {
   "cell_type": "code",
   "execution_count": 31,
   "metadata": {},
   "outputs": [],
   "source": [
    "ff3.date=ff3.date.map(lambda t:pd.Timestamp(t,freq='M')).map(lambda t:t+pd.Timedelta(days=10)).map(lambda t:pd.Timestamp(year=t.year, month=t.month, day=1))\n",
    "#转化一下日期\n",
    "ff3=ff3.set_index('date')"
   ]
  },
  {
   "cell_type": "code",
   "execution_count": 32,
   "metadata": {},
   "outputs": [
    {
     "data": {
      "text/html": [
       "<div>\n",
       "<style scoped>\n",
       "    .dataframe tbody tr th:only-of-type {\n",
       "        vertical-align: middle;\n",
       "    }\n",
       "\n",
       "    .dataframe tbody tr th {\n",
       "        vertical-align: top;\n",
       "    }\n",
       "\n",
       "    .dataframe thead th {\n",
       "        text-align: right;\n",
       "    }\n",
       "</style>\n",
       "<table border=\"1\" class=\"dataframe\">\n",
       "  <thead>\n",
       "    <tr style=\"text-align: right;\">\n",
       "      <th></th>\n",
       "      <th>RM</th>\n",
       "      <th>SMB</th>\n",
       "      <th>HML</th>\n",
       "    </tr>\n",
       "    <tr>\n",
       "      <th>date</th>\n",
       "      <th></th>\n",
       "      <th></th>\n",
       "      <th></th>\n",
       "    </tr>\n",
       "  </thead>\n",
       "  <tbody>\n",
       "    <tr>\n",
       "      <th>2013-07-01</th>\n",
       "      <td>-0.1376</td>\n",
       "      <td>-0.0069</td>\n",
       "      <td>-0.0011</td>\n",
       "    </tr>\n",
       "    <tr>\n",
       "      <th>2013-08-01</th>\n",
       "      <td>0.0251</td>\n",
       "      <td>0.0432</td>\n",
       "      <td>0.0010</td>\n",
       "    </tr>\n",
       "    <tr>\n",
       "      <th>2013-09-01</th>\n",
       "      <td>0.0493</td>\n",
       "      <td>0.0378</td>\n",
       "      <td>-0.0041</td>\n",
       "    </tr>\n",
       "    <tr>\n",
       "      <th>2013-10-01</th>\n",
       "      <td>0.0403</td>\n",
       "      <td>0.0092</td>\n",
       "      <td>0.0059</td>\n",
       "    </tr>\n",
       "    <tr>\n",
       "      <th>2013-11-01</th>\n",
       "      <td>-0.0246</td>\n",
       "      <td>0.0010</td>\n",
       "      <td>0.0256</td>\n",
       "    </tr>\n",
       "  </tbody>\n",
       "</table>\n",
       "</div>"
      ],
      "text/plain": [
       "                RM     SMB     HML\n",
       "date                              \n",
       "2013-07-01 -0.1376 -0.0069 -0.0011\n",
       "2013-08-01  0.0251  0.0432  0.0010\n",
       "2013-09-01  0.0493  0.0378 -0.0041\n",
       "2013-10-01  0.0403  0.0092  0.0059\n",
       "2013-11-01 -0.0246  0.0010  0.0256"
      ]
     },
     "execution_count": 32,
     "metadata": {},
     "output_type": "execute_result"
    }
   ],
   "source": [
    "ff3.head()"
   ]
  },
  {
   "cell_type": "code",
   "execution_count": 36,
   "metadata": {},
   "outputs": [],
   "source": [
    "rm=ff3.RM"
   ]
  },
  {
   "cell_type": "code",
   "execution_count": 37,
   "metadata": {},
   "outputs": [
    {
     "data": {
      "text/plain": [
       "<matplotlib.axes._subplots.AxesSubplot at 0x1c7acbed550>"
      ]
     },
     "execution_count": 37,
     "metadata": {},
     "output_type": "execute_result"
    },
    {
     "data": {
      "image/png": "[encoded data removed]",
      "text/plain": [
       "<Figure size 432x288 with 1 Axes>"
      ]
     },
     "metadata": {},
     "output_type": "display_data"
    }
   ],
   "source": [
    "cal_p(rm,'market').plot() "
   ]
  },
  {
   "cell_type": "markdown",
   "metadata": {},
   "source": [
    "市场组合的价格走势"
   ]
  },
  {
   "cell_type": "code",
   "execution_count": 39,
   "metadata": {},
   "outputs": [
    {
     "data": {
      "text/plain": [
       "<matplotlib.axes._subplots.AxesSubplot at 0x1c7a74be128>"
      ]
     },
     "execution_count": 39,
     "metadata": {},
     "output_type": "execute_result"
    },
    {
     "data": {
      "image/png": "[encoded data removed]",
      "text/plain": [
       "<Figure size 432x288 with 1 Axes>"
      ]
     },
     "metadata": {},
     "output_type": "display_data"
    }
   ],
   "source": [
    "cal_p(df1.ret0,'p0').to_frame().join(cal_p(df1.ret9,'p9')).join(cal_p(rm,'market')).plot()"
   ]
  },
  {
   "cell_type": "markdown",
   "metadata": {},
   "source": [
    "两个组合跟市场组合的对比"
   ]
  },
  {
   "cell_type": "code",
   "execution_count": 51,
   "metadata": {},
   "outputs": [],
   "source": [
    "xff3=ff3.loc[ff3.index.to_series().isin(list(df1.retp.index)),:]  #对齐两边的index\n",
    "y=df1.retp.loc[df1.retp.index.to_series().isin(list(ff3.index))]"
   ]
  },
  {
   "cell_type": "code",
   "execution_count": 53,
   "metadata": {},
   "outputs": [],
   "source": [
    "xrm=xff3.RM  #xrm:仅有市场风险\n",
    "# xff3:三因子\n",
    "import statsmodels.api as sm"
   ]
  },
  {
   "cell_type": "code",
   "execution_count": 55,
   "metadata": {},
   "outputs": [
    {
     "data": {
      "text/html": [
       "<table class=\"simpletable\">\n",
       "<caption>OLS Regression Results</caption>\n",
       "<tr>\n",
       "  <th>Dep. Variable:</th>          <td>retp</td>       <th>  R-squared:         </th> <td>   0.102</td>\n",
       "</tr>\n",
       "<tr>\n",
       "  <th>Model:</th>                   <td>OLS</td>       <th>  Adj. R-squared:    </th> <td>   0.082</td>\n",
       "</tr>\n",
       "<tr>\n",
       "  <th>Method:</th>             <td>Least Squares</td>  <th>  F-statistic:       </th> <td>   5.117</td>\n",
       "</tr>\n",
       "<tr>\n",
       "  <th>Date:</th>             <td>Wed, 20 Jun 2018</td> <th>  Prob (F-statistic):</th>  <td>0.0286</td> \n",
       "</tr>\n",
       "<tr>\n",
       "  <th>Time:</th>                 <td>20:06:08</td>     <th>  Log-Likelihood:    </th> <td>  109.04</td>\n",
       "</tr>\n",
       "<tr>\n",
       "  <th>No. Observations:</th>      <td>    47</td>      <th>  AIC:               </th> <td>  -214.1</td>\n",
       "</tr>\n",
       "<tr>\n",
       "  <th>Df Residuals:</th>          <td>    45</td>      <th>  BIC:               </th> <td>  -210.4</td>\n",
       "</tr>\n",
       "<tr>\n",
       "  <th>Df Model:</th>              <td>     1</td>      <th>                     </th>     <td> </td>   \n",
       "</tr>\n",
       "<tr>\n",
       "  <th>Covariance Type:</th>      <td>nonrobust</td>    <th>                     </th>     <td> </td>   \n",
       "</tr>\n",
       "</table>\n",
       "<table class=\"simpletable\">\n",
       "<tr>\n",
       "    <td></td>       <th>coef</th>     <th>std err</th>      <th>t</th>      <th>P>|t|</th>  <th>[0.025</th>    <th>0.975]</th>  \n",
       "</tr>\n",
       "<tr>\n",
       "  <th>const</th> <td>    0.0093</td> <td>    0.004</td> <td>    2.598</td> <td> 0.013</td> <td>    0.002</td> <td>    0.017</td>\n",
       "</tr>\n",
       "<tr>\n",
       "  <th>RM</th>    <td>    0.1041</td> <td>    0.046</td> <td>    2.262</td> <td> 0.029</td> <td>    0.011</td> <td>    0.197</td>\n",
       "</tr>\n",
       "</table>\n",
       "<table class=\"simpletable\">\n",
       "<tr>\n",
       "  <th>Omnibus:</th>       <td> 0.270</td> <th>  Durbin-Watson:     </th> <td>   2.237</td>\n",
       "</tr>\n",
       "<tr>\n",
       "  <th>Prob(Omnibus):</th> <td> 0.874</td> <th>  Jarque-Bera (JB):  </th> <td>   0.408</td>\n",
       "</tr>\n",
       "<tr>\n",
       "  <th>Skew:</th>          <td>-0.156</td> <th>  Prob(JB):          </th> <td>   0.815</td>\n",
       "</tr>\n",
       "<tr>\n",
       "  <th>Kurtosis:</th>      <td> 2.668</td> <th>  Cond. No.          </th> <td>    13.0</td>\n",
       "</tr>\n",
       "</table>"
      ],
      "text/plain": [
       "<class 'statsmodels.iolib.summary.Summary'>\n",
       "\"\"\"\n",
       "                            OLS Regression Results                            \n",
       "==============================================================================\n",
       "Dep. Variable:                   retp   R-squared:                       0.102\n",
       "Model:                            OLS   Adj. R-squared:                  0.082\n",
       "Method:                 Least Squares   F-statistic:                     5.117\n",
       "Date:                Wed, 20 Jun 2018   Prob (F-statistic):             0.0286\n",
       "Time:                        20:06:08   Log-Likelihood:                 109.04\n",
       "No. Observations:                  47   AIC:                            -214.1\n",
       "Df Residuals:                      45   BIC:                            -210.4\n",
       "Df Model:                           1                                         \n",
       "Covariance Type:            nonrobust                                         \n",
       "==============================================================================\n",
       "                 coef    std err          t      P>|t|      [0.025      0.975]\n",
       "------------------------------------------------------------------------------\n",
       "const          0.0093      0.004      2.598      0.013       0.002       0.017\n",
       "RM             0.1041      0.046      2.262      0.029       0.011       0.197\n",
       "==============================================================================\n",
       "Omnibus:                        0.270   Durbin-Watson:                   2.237\n",
       "Prob(Omnibus):                  0.874   Jarque-Bera (JB):                0.408\n",
       "Skew:                          -0.156   Prob(JB):                        0.815\n",
       "Kurtosis:                       2.668   Cond. No.                         13.0\n",
       "==============================================================================\n",
       "\n",
       "Warnings:\n",
       "[1] Standard Errors assume that the covariance matrix of the errors is correctly specified.\n",
       "\"\"\""
      ]
     },
     "execution_count": 55,
     "metadata": {},
     "output_type": "execute_result"
    }
   ],
   "source": [
    "\n",
    "x=sm.add_constant(xrm) #增加截距项\n",
    "#y=df1.retp #组合收益作为被解释变量\n",
    "lg=sm.OLS(y,x)\n",
    "fited=lg.fit()\n",
    "fited.summary()"
   ]
  },
  {
   "cell_type": "markdown",
   "metadata": {},
   "source": [
    "用套利组合收益率对R_m作回归，所得到的结果，截距项和$\\beta$ 值均显著,说明该超额收益不是对市场风险的补偿"
   ]
  },
  {
   "cell_type": "code",
   "execution_count": 56,
   "metadata": {},
   "outputs": [
    {
     "data": {
      "text/html": [
       "<table class=\"simpletable\">\n",
       "<caption>OLS Regression Results</caption>\n",
       "<tr>\n",
       "  <th>Dep. Variable:</th>          <td>retp</td>       <th>  R-squared:         </th> <td>   0.134</td>\n",
       "</tr>\n",
       "<tr>\n",
       "  <th>Model:</th>                   <td>OLS</td>       <th>  Adj. R-squared:    </th> <td>   0.073</td>\n",
       "</tr>\n",
       "<tr>\n",
       "  <th>Method:</th>             <td>Least Squares</td>  <th>  F-statistic:       </th> <td>   2.213</td>\n",
       "</tr>\n",
       "<tr>\n",
       "  <th>Date:</th>             <td>Wed, 20 Jun 2018</td> <th>  Prob (F-statistic):</th>  <td> 0.100</td> \n",
       "</tr>\n",
       "<tr>\n",
       "  <th>Time:</th>                 <td>20:07:23</td>     <th>  Log-Likelihood:    </th> <td>  109.88</td>\n",
       "</tr>\n",
       "<tr>\n",
       "  <th>No. Observations:</th>      <td>    47</td>      <th>  AIC:               </th> <td>  -211.8</td>\n",
       "</tr>\n",
       "<tr>\n",
       "  <th>Df Residuals:</th>          <td>    43</td>      <th>  BIC:               </th> <td>  -204.4</td>\n",
       "</tr>\n",
       "<tr>\n",
       "  <th>Df Model:</th>              <td>     3</td>      <th>                     </th>     <td> </td>   \n",
       "</tr>\n",
       "<tr>\n",
       "  <th>Covariance Type:</th>      <td>nonrobust</td>    <th>                     </th>     <td> </td>   \n",
       "</tr>\n",
       "</table>\n",
       "<table class=\"simpletable\">\n",
       "<tr>\n",
       "    <td></td>       <th>coef</th>     <th>std err</th>      <th>t</th>      <th>P>|t|</th>  <th>[0.025</th>    <th>0.975]</th>  \n",
       "</tr>\n",
       "<tr>\n",
       "  <th>const</th> <td>    0.0099</td> <td>    0.004</td> <td>    2.668</td> <td> 0.011</td> <td>    0.002</td> <td>    0.017</td>\n",
       "</tr>\n",
       "<tr>\n",
       "  <th>RM</th>    <td>    0.1037</td> <td>    0.049</td> <td>    2.115</td> <td> 0.040</td> <td>    0.005</td> <td>    0.203</td>\n",
       "</tr>\n",
       "<tr>\n",
       "  <th>SMB</th>   <td>   -0.0489</td> <td>    0.112</td> <td>   -0.437</td> <td> 0.665</td> <td>   -0.274</td> <td>    0.177</td>\n",
       "</tr>\n",
       "<tr>\n",
       "  <th>HML</th>   <td>   -0.1442</td> <td>    0.138</td> <td>   -1.048</td> <td> 0.300</td> <td>   -0.422</td> <td>    0.133</td>\n",
       "</tr>\n",
       "</table>\n",
       "<table class=\"simpletable\">\n",
       "<tr>\n",
       "  <th>Omnibus:</th>       <td> 1.362</td> <th>  Durbin-Watson:     </th> <td>   2.160</td>\n",
       "</tr>\n",
       "<tr>\n",
       "  <th>Prob(Omnibus):</th> <td> 0.506</td> <th>  Jarque-Bera (JB):  </th> <td>   0.875</td>\n",
       "</tr>\n",
       "<tr>\n",
       "  <th>Skew:</th>          <td>-0.331</td> <th>  Prob(JB):          </th> <td>   0.646</td>\n",
       "</tr>\n",
       "<tr>\n",
       "  <th>Kurtosis:</th>      <td> 3.084</td> <th>  Cond. No.          </th> <td>    47.6</td>\n",
       "</tr>\n",
       "</table>"
      ],
      "text/plain": [
       "<class 'statsmodels.iolib.summary.Summary'>\n",
       "\"\"\"\n",
       "                            OLS Regression Results                            \n",
       "==============================================================================\n",
       "Dep. Variable:                   retp   R-squared:                       0.134\n",
       "Model:                            OLS   Adj. R-squared:                  0.073\n",
       "Method:                 Least Squares   F-statistic:                     2.213\n",
       "Date:                Wed, 20 Jun 2018   Prob (F-statistic):              0.100\n",
       "Time:                        20:07:23   Log-Likelihood:                 109.88\n",
       "No. Observations:                  47   AIC:                            -211.8\n",
       "Df Residuals:                      43   BIC:                            -204.4\n",
       "Df Model:                           3                                         \n",
       "Covariance Type:            nonrobust                                         \n",
       "==============================================================================\n",
       "                 coef    std err          t      P>|t|      [0.025      0.975]\n",
       "------------------------------------------------------------------------------\n",
       "const          0.0099      0.004      2.668      0.011       0.002       0.017\n",
       "RM             0.1037      0.049      2.115      0.040       0.005       0.203\n",
       "SMB           -0.0489      0.112     -0.437      0.665      -0.274       0.177\n",
       "HML           -0.1442      0.138     -1.048      0.300      -0.422       0.133\n",
       "==============================================================================\n",
       "Omnibus:                        1.362   Durbin-Watson:                   2.160\n",
       "Prob(Omnibus):                  0.506   Jarque-Bera (JB):                0.875\n",
       "Skew:                          -0.331   Prob(JB):                        0.646\n",
       "Kurtosis:                       3.084   Cond. No.                         47.6\n",
       "==============================================================================\n",
       "\n",
       "Warnings:\n",
       "[1] Standard Errors assume that the covariance matrix of the errors is correctly specified.\n",
       "\"\"\""
      ]
     },
     "execution_count": 56,
     "metadata": {},
     "output_type": "execute_result"
    }
   ],
   "source": [
    "\n",
    "x=sm.add_constant(xff3) #增加截距项  ff3\n",
    "lg=sm.OLS(y,x)\n",
    "fited=lg.fit()\n",
    "fited.summary()"
   ]
  },
  {
   "cell_type": "markdown",
   "metadata": {},
   "source": [
    "用三因子模型进行检验，发现截距仍然显著"
   ]
  },
  {
   "cell_type": "markdown",
   "metadata": {},
   "source": [
    "******\n",
    "### 下一步的工作：\n",
    "* 试着使用其他五种指标进行分组\n",
    "* 下载FF五因子数据（GTA数据库只能下载2015年之前，学校没有买之后的）\n"
   ]
  },
  {
   "cell_type": "code",
   "execution_count": 79,
   "metadata": {},
   "outputs": [],
   "source": [
    "def get_group_list(f_year,group=0):  #返回需要的股票列表\n",
    "    stock_i=rec[f_year].notnull() &(rec[f_year]!=0) & (market[f_year]!=0)  #待选股票\n",
    "    rdp=rec[f_year][stock_i]/market[f_year][stock_i]  #计算rd/p\n",
    "    cut=pd.qcut(rdp,10,labels=range(10)).astype(int) \n",
    "    return list( cut.index[cut==group] ) "
   ]
  },
  {
   "cell_type": "markdown",
   "metadata": {},
   "source": [
    "重新定义选股策略：根据资本化研发支出来选(0就当作是缺失值）"
   ]
  },
  {
   "cell_type": "code",
   "execution_count": 80,
   "metadata": {
    "scrolled": true
   },
   "outputs": [
    {
     "data": {
      "text/plain": [
       "<matplotlib.axes._subplots.AxesSubplot at 0x1c7ae64b3c8>"
      ]
     },
     "execution_count": 80,
     "metadata": {},
     "output_type": "execute_result"
    },
    {
     "data": {
      "image/png": "[encoded data removed]",
      "text/plain": [
       "<Figure size 432x288 with 1 Axes>"
      ]
     },
     "metadata": {},
     "output_type": "display_data"
    }
   ],
   "source": [
    "tr=pd.date_range('2014-06-01','2018-06-01',freq='M').map(lambda t:pd.Timestamp(year=t.year, month=t.month, day=1))\n",
    "df=pd.DataFrame(index=tr,columns=['ret0','ret9'])\n",
    "for t in tr:  #遍历每一个月\n",
    "    retm=ret.loc[(ret.Trdmnt==t),:]  #当月的收益率\n",
    "    if t.month==6:#在每年6月\n",
    "        #print(t)\n",
    "        f_year=get_f_years(t)  #对应财报年份\n",
    "        g0=get_group_list(f_year,0)  #最低组\n",
    "        g0=list(  retm.index[(retm.index.to_series().isin(g0) & (retm.Mnshrtrd!=0))] )\n",
    "        \n",
    "        g9=get_group_list(f_year,9)  #最高组\n",
    "        g9=list(  retm.index[(retm.index.to_series().isin(g9) & (retm.Mnshrtrd!=0))] )\n",
    "        #print('change',len(g0),len(g9))\n",
    "    else:\n",
    "        pass #就沿用上一个循环的g0&g9\n",
    "    ret0=retm.Mretwd[retm.index.to_series().isin(g0)].mean()\n",
    "    ret9=retm.Mretwd[retm.index.to_series().isin(g9)].mean()\n",
    "    ret_por=(ret9-ret0) #套利组合收益率\n",
    "    if t.month==6:\n",
    "        ret_por=ret_por-0.003  #千分之三的手续费\n",
    "    df.loc[t,'ret0']=ret0\n",
    "    df.loc[t,'ret9']=ret9\n",
    "    df.loc[t,'retp']=ret_por\n",
    "cal_p(df.retp,'pp').plot()  \n"
   ]
  },
  {
   "cell_type": "markdown",
   "metadata": {},
   "source": [
    "结果如上"
   ]
  },
  {
   "cell_type": "code",
   "execution_count": 108,
   "metadata": {},
   "outputs": [],
   "source": [
    "def get_group_list(f_year,group=0):  #返回需要的股票列表\n",
    "    stock_i=rec[f_year].notnull()  & (market[f_year]!=0)  #待选股票\n",
    "    rdp=rec[f_year][stock_i]/market[f_year][stock_i]  #计算rd/p\n",
    "    cut,b=pd.qcut(rdp,10,retbins=True,duplicates='drop')\n",
    "    last=len(b)\n",
    "    cut=pd.cut(rdp,b,labels=range(last-1),include_lowest=True)\n",
    "    if group==0:\n",
    "        return list( cut.index[cut==group] )\n",
    "    else:\n",
    "        return list(cut.index[cut==last-2] )"
   ]
  },
  {
   "cell_type": "code",
   "execution_count": 109,
   "metadata": {
    "scrolled": true
   },
   "outputs": [
    {
     "data": {
      "text/plain": [
       "<matplotlib.axes._subplots.AxesSubplot at 0x1c7ae72c1d0>"
      ]
     },
     "execution_count": 109,
     "metadata": {},
     "output_type": "execute_result"
    },
    {
     "data": {
      "image/png": "[encoded data removed]",
      "text/plain": [
       "<Figure size 432x288 with 1 Axes>"
      ]
     },
     "metadata": {},
     "output_type": "display_data"
    }
   ],
   "source": [
    "tr=pd.date_range('2014-06-01','2018-06-01',freq='M').map(lambda t:pd.Timestamp(year=t.year, month=t.month, day=1))\n",
    "df=pd.DataFrame(index=tr,columns=['ret0','ret9'])\n",
    "for t in tr:  #遍历每一个月\n",
    "    retm=ret.loc[(ret.Trdmnt==t),:]  #当月的收益率\n",
    "    if t.month==6:#在每年6月\n",
    "        #print(t)\n",
    "        f_year=get_f_years(t)  #对应财报年份\n",
    "        g0=get_group_list(f_year,0)  #最低组\n",
    "        g0=list(  retm.index[(retm.index.to_series().isin(g0) & (retm.Mnshrtrd!=0))] )\n",
    "        \n",
    "        g9=get_group_list(f_year,9)  #最高组\n",
    "        g9=list(  retm.index[(retm.index.to_series().isin(g9) & (retm.Mnshrtrd!=0))] )\n",
    "        #print('change',len(g0),len(g9))\n",
    "    else:\n",
    "        pass #就沿用上一个循环的g0&g9\n",
    "    ret0=retm.Mretwd[retm.index.to_series().isin(g0)].mean()\n",
    "    ret9=retm.Mretwd[retm.index.to_series().isin(g9)].mean()\n",
    "    ret_por=(ret9-ret0) #套利组合收益率\n",
    "    if t.month==6:\n",
    "        ret_por=ret_por-0.003  #千分之三的手续费\n",
    "    df.loc[t,'ret0']=ret0\n",
    "    df.loc[t,'ret9']=ret9\n",
    "    df.loc[t,'retp']=ret_por\n",
    "cal_p(df.retp,'pp').plot()  \n"
   ]
  },
  {
   "cell_type": "markdown",
   "metadata": {},
   "source": [
    "把资本化为0的算作最低组"
   ]
  },
  {
   "cell_type": "code",
   "execution_count": 111,
   "metadata": {},
   "outputs": [],
   "source": [
    "def get_group_list(f_year,group=0):  #返回需要的股票列表\n",
    "    stock_i=ree[f_year].notnull() &(ree[f_year]!=0) & (market[f_year]!=0)  #待选股票\n",
    "    rdp=ree[f_year][stock_i]/market[f_year][stock_i]  #计算rd/p\n",
    "    cut=pd.qcut(rdp,10,labels=range(10)).astype(int) \n",
    "    return list( cut.index[cut==group] ) "
   ]
  },
  {
   "cell_type": "markdown",
   "metadata": {},
   "source": [
    "把费用化研发支出作为选股依据"
   ]
  },
  {
   "cell_type": "code",
   "execution_count": 112,
   "metadata": {},
   "outputs": [
    {
     "data": {
      "text/plain": [
       "<matplotlib.axes._subplots.AxesSubplot at 0x1c7ae6fc160>"
      ]
     },
     "execution_count": 112,
     "metadata": {},
     "output_type": "execute_result"
    },
    {
     "data": {
      "image/png": "[encoded data removed]",
      "text/plain": [
       "<Figure size 432x288 with 1 Axes>"
      ]
     },
     "metadata": {},
     "output_type": "display_data"
    }
   ],
   "source": [
    "tr=pd.date_range('2014-06-01','2018-06-01',freq='M').map(lambda t:pd.Timestamp(year=t.year, month=t.month, day=1))\n",
    "df=pd.DataFrame(index=tr,columns=['ret0','ret9'])\n",
    "for t in tr:  #遍历每一个月\n",
    "    retm=ret.loc[(ret.Trdmnt==t),:]  #当月的收益率\n",
    "    if t.month==6:#在每年6月\n",
    "        #print(t)\n",
    "        f_year=get_f_years(t)  #对应财报年份\n",
    "        g0=get_group_list(f_year,0)  #最低组\n",
    "        g0=list(  retm.index[(retm.index.to_series().isin(g0) & (retm.Mnshrtrd!=0))] )\n",
    "        \n",
    "        g9=get_group_list(f_year,9)  #最高组\n",
    "        g9=list(  retm.index[(retm.index.to_series().isin(g9) & (retm.Mnshrtrd!=0))] )\n",
    "        #print('change',len(g0),len(g9))\n",
    "    else:\n",
    "        pass #就沿用上一个循环的g0&g9\n",
    "    ret0=retm.Mretwd[retm.index.to_series().isin(g0)].mean()\n",
    "    ret9=retm.Mretwd[retm.index.to_series().isin(g9)].mean()\n",
    "    ret_por=(ret9-ret0) #套利组合收益率\n",
    "    if t.month==6:\n",
    "        ret_por=ret_por-0.003  #千分之三的手续费\n",
    "    df.loc[t,'ret0']=ret0\n",
    "    df.loc[t,'ret9']=ret9\n",
    "    df.loc[t,'retp']=ret_por\n",
    "cal_p(df.retp,'pp').plot() "
   ]
  },
  {
   "cell_type": "code",
   "execution_count": null,
   "metadata": {},
   "outputs": [],
   "source": []
  },
  {
   "cell_type": "code",
   "execution_count": null,
   "metadata": {},
   "outputs": [],
   "source": []
  }
 ],
 "metadata": {
  "kernelspec": {
   "display_name": "Python 3",
   "language": "python",
   "name": "python3"
  },
  "language_info": {
   "codemirror_mode": {
    "name": "ipython",
    "version": 3
   },
   "file_extension": ".py",
   "mimetype": "text/x-python",
   "name": "python",
   "nbconvert_exporter": "python",
   "pygments_lexer": "ipython3",
   "version": "3.6.5"
  }
 },
 "nbformat": 4,
 "nbformat_minor": 1
}
